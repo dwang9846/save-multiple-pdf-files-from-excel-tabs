{
 "cells": [
  {
   "cell_type": "code",
   "execution_count": 1,
   "id": "8edc89c3",
   "metadata": {},
   "outputs": [],
   "source": [
    "import pandas as pd\n",
    "import openpyxl as op\n",
    "from datetime import date\n",
    "from win32com import client\n",
    "import calendar\n",
    "import os\n"
   ]
  },
  {
   "cell_type": "code",
   "execution_count": 2,
   "id": "f6ba0f0c",
   "metadata": {},
   "outputs": [
    {
     "name": "stderr",
     "output_type": "stream",
     "text": [
      "C:\\ProgramData\\Anaconda3\\lib\\site-packages\\openpyxl\\worksheet\\_reader.py:312: UserWarning: Data Validation extension is not supported and will be removed\n",
      "  warn(msg)\n"
     ]
    }
   ],
   "source": [
    "#Read Excel file into Python, all Sheets\n",
    "file=pd.read_excel(\"G:/Commerce/Order Management/2021/Project 70/Project 70 Sales_Royalty Stmts_Charges.xlsx\",None)\n"
   ]
  },
  {
   "cell_type": "code",
   "execution_count": 1,
   "id": "f0b181c6",
   "metadata": {},
   "outputs": [],
   "source": [
    "#get all sheets name\n",
    "sheets=list(file.keys())\n",
    "print(sheets)\n",
    "#df1=pd.DataFrame()\n",
    "#df1['tab']=sheets\n",
    "#df1.to_csv(\"tab_name.csv\")"
   ]
  },
  {
   "cell_type": "code",
   "execution_count": 2,
   "id": "b114faed",
   "metadata": {},
   "outputs": [],
   "source": [
    "#Extract all the Artist tabs\n",
    "sheet_list=sheets[8:-23]\n",
    "print(len(sheet_list))\n",
    "print(sheet_list)"
   ]
  },
  {
   "cell_type": "code",
   "execution_count": 5,
   "id": "e649a258",
   "metadata": {},
   "outputs": [
    {
     "name": "stdout",
     "output_type": "stream",
     "text": [
      "August\n"
     ]
    }
   ],
   "source": [
    "#get prior month info\n",
    "month_num=date.today().month-1\n",
    "month_info=calendar.month_name[month_num]\n",
    "print(month_info)"
   ]
  },
  {
   "cell_type": "code",
   "execution_count": 6,
   "id": "e40949e3",
   "metadata": {},
   "outputs": [],
   "source": [
    "#launch excel application\n",
    "excel=client.Dispatch(\"Excel.Application\")"
   ]
  },
  {
   "cell_type": "code",
   "execution_count": 7,
   "id": "d54c81fc",
   "metadata": {},
   "outputs": [],
   "source": [
    "\n",
    "#open up the excel file\n",
    "sheet=excel.Workbooks.open(\"G:/Commerce/Order Management/2021/Project 70/Project 70 Sales_Royalty Stmts_Charges.xlsx\")\n"
   ]
  },
  {
   "cell_type": "code",
   "execution_count": 8,
   "id": "6e04ada9",
   "metadata": {},
   "outputs": [],
   "source": [
    "\n",
    "for tab_name in sheet_list:\n",
    "    #read through all sheets name\n",
    "    work_sheet=sheet.Worksheets[tab_name]\n",
    "    #create file name for each pdf file\n",
    "    file_name=tab_name+\"_Project 70_\"+month_info+\".pdf\"\n",
    "    #replace empty space with underscore\n",
    "    file_name=file_name.replace(\" \",\"_\")\n",
    "    #create pdf file location\n",
    "    file_loc=r\"C:\\\\Users\\\\dwang\\\\_\"+file_name\n",
    "    #print(file_loc)\n",
    "    #create all pdf files\n",
    "    work_sheet.ExportAsFixedFormat(0,file_loc)\n",
    "    "
   ]
  },
  {
   "cell_type": "code",
   "execution_count": null,
   "id": "ef1f8a31",
   "metadata": {},
   "outputs": [],
   "source": []
  }
 ],
 "metadata": {
  "kernelspec": {
   "display_name": "Python 3",
   "language": "python",
   "name": "python3"
  },
  "language_info": {
   "codemirror_mode": {
    "name": "ipython",
    "version": 3
   },
   "file_extension": ".py",
   "mimetype": "text/x-python",
   "name": "python",
   "nbconvert_exporter": "python",
   "pygments_lexer": "ipython3",
   "version": "3.8.8"
  }
 },
 "nbformat": 4,
 "nbformat_minor": 5
}
